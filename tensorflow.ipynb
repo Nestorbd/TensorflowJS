{
 "cells": [
  {
   "cell_type": "markdown",
   "metadata": {},
   "source": [
    "![enter image description here](https://img.shields.io/badge/Author-Nestor_Batista_Díaz-yellow)"
   ]
  },
  {
   "cell_type": "markdown",
   "metadata": {},
   "source": [
    "# <center>AREA MODELOS DE PYTHON A TENSORFLOW.JS</center>"
   ]
  },
  {
   "cell_type": "markdown",
   "metadata": {},
   "source": [
    "## De  grados Fahrenheita a Celsius"
   ]
  },
  {
   "cell_type": "code",
   "execution_count": 54,
   "metadata": {},
   "outputs": [],
   "source": [
    "import tensorflow as tf\n",
    "import numpy as np\n",
    "import random\n",
    "import pandas as pd\n",
    "import matplotlib.pyplot as plt\n",
    "\n",
    "from sklearn.model_selection import  train_test_split"
   ]
  },
  {
   "cell_type": "markdown",
   "metadata": {},
   "source": [
    "Generamos 1000 filas con los grados Fahrenheit y sus respectivos grados Celsius"
   ]
  },
  {
   "cell_type": "code",
   "execution_count": 55,
   "metadata": {},
   "outputs": [],
   "source": [
    "# Crea un DataFrame vacío para almacenar los valores\n",
    "df = pd.DataFrame(columns=['Celsius', 'Fahrenheit'])\n",
    "\n",
    "# Genera 1000 valores aleatorios de Celsius\n",
    "for i in range(1000):\n",
    "    celsius = random.uniform(-100, 100)\n",
    "\n",
    "    # Convierte Celsius a Fahrenheit\n",
    "    fahrenheit = (celsius * 9/5) + 32\n",
    "\n",
    "    # Agrega los valores al DataFrame\n",
    "    df.loc[i] = [round(celsius,2), round(fahrenheit,2)]\n",
    "\n",
    "df.to_csv(\"Grados/grados.csv\")"
   ]
  },
  {
   "cell_type": "markdown",
   "metadata": {},
   "source": [
    "Creamos el modelo según el video y lo entrenamos"
   ]
  },
  {
   "cell_type": "code",
   "execution_count": 56,
   "metadata": {},
   "outputs": [
    {
     "name": "stdout",
     "output_type": "stream",
     "text": [
      "Comenzando entrenamiento...\n",
      "Modelo entrenado!\n"
     ]
    }
   ],
   "source": [
    "df = pd.read_csv(\"Grados/grados.csv\")\n",
    "\n",
    "y = df[\"Celsius\"]\n",
    "X = df[\"Fahrenheit\"]\n",
    "\n",
    "X_train, X_test, y_train, y_test = train_test_split(X, y, test_size=0.20, random_state=42)\n",
    "\n",
    "oculta1 = tf.keras.layers.Dense(units=3, input_shape=[1])\n",
    "oculta2 = tf.keras.layers.Dense(units=3)\n",
    "salida = tf.keras.layers.Dense(units=1)\n",
    "modelo = tf.keras.Sequential([oculta1, oculta2, salida])\n",
    "\n",
    "\n",
    "modelo.compile(\n",
    "    optimizer=tf.keras.optimizers.Adam(0.01),\n",
    "    loss='mean_squared_error'\n",
    ")\n",
    "\n",
    "print(\"Comenzando entrenamiento...\")\n",
    "historial = modelo.fit(X_train, y_train, epochs=300, verbose=False, validation_split=0.05)\n",
    "print(\"Modelo entrenado!\")"
   ]
  },
  {
   "cell_type": "code",
   "execution_count": 57,
   "metadata": {},
   "outputs": [
    {
     "data": {
      "image/png": "[encoded data removed]",
      "text/plain": [
       "<Figure size 1000x600 with 1 Axes>"
      ]
     },
     "metadata": {},
     "output_type": "display_data"
    }
   ],
   "source": [
    "# Obtener la historia de entrenamiento del modelo\n",
    "loss = historial.history['loss']\n",
    "\n",
    "# Crear la gráfica de la pérdida\n",
    "plt.figure(figsize=(10, 6))\n",
    "plt.plot(loss)\n",
    "plt.title('Pérdida del modelo')\n",
    "plt.xlabel('Época')\n",
    "plt.ylabel('Pérdida')\n",
    "plt.grid(True)\n",
    "plt.show()"
   ]
  },
  {
   "cell_type": "markdown",
   "metadata": {},
   "source": [
    "Como podemos ver el modelo aprende muy rapido "
   ]
  },
  {
   "cell_type": "code",
   "execution_count": 58,
   "metadata": {},
   "outputs": [
    {
     "name": "stdout",
     "output_type": "stream",
     "text": [
      "MSE:  1.3885900443710852e-05\n"
     ]
    }
   ],
   "source": [
    "mse = modelo.evaluate(X_test, y_test, batch_size=32, verbose=0)\n",
    "\n",
    "print(\"MSE: \", mse)"
   ]
  },
  {
   "cell_type": "markdown",
   "metadata": {},
   "source": [
    "El error del modelo es muy bajo"
   ]
  },
  {
   "cell_type": "code",
   "execution_count": 59,
   "metadata": {},
   "outputs": [
    {
     "name": "stdout",
     "output_type": "stream",
     "text": [
      "Predicción: 100 grados Fahrenheit son 37.78 Celsius!\n"
     ]
    }
   ],
   "source": [
    "resultado = modelo.predict(np.array([100]), verbose=0)\n",
    "print(\"Predicción: 100 grados Fahrenheit son {:.2f} Celsius!\".format(resultado[0][0]))"
   ]
  },
  {
   "cell_type": "markdown",
   "metadata": {},
   "source": [
    "Guardamos el modelo para pasarselo a tensorflowjs y nos genere el json del modelo"
   ]
  },
  {
   "cell_type": "code",
   "execution_count": 60,
   "metadata": {},
   "outputs": [
    {
     "name": "stderr",
     "output_type": "stream",
     "text": [
      "c:\\Users\\NestorBD\\anaconda3\\Lib\\site-packages\\keras\\src\\engine\\training.py:3103: UserWarning: You are saving your model as an HDF5 file via `model.save()`. This file format is considered legacy. We recommend using instead the native Keras format, e.g. `model.save('my_model.keras')`.\n",
      "  saving_api.save_model(\n"
     ]
    }
   ],
   "source": [
    "#Exportar el modelo en formato h5\n",
    "modelo.save('Grados/fahrenheit_a_celsius.h5')"
   ]
  },
  {
   "cell_type": "markdown",
   "metadata": {},
   "source": [
    "El siguiente paso lo ejecute en Google Colab ya que en local no funcina el tensorflowjs por un problema de versiones.\n",
    "\n",
    "[Google Colab](https://colab.research.google.com/drive/1VnXv8A3kS80swxJXS_S5YUUPWViX4Bxb#scrollTo=nIRjsmPBk51a)"
   ]
  },
  {
   "cell_type": "markdown",
   "metadata": {},
   "source": [
    "Subimos el modelo guardado anteriormente"
   ]
  },
  {
   "cell_type": "markdown",
   "metadata": {},
   "source": [
    "![image.png](Grados/img/Subir%20modelo.png)"
   ]
  },
  {
   "cell_type": "markdown",
   "metadata": {},
   "source": [
    "Creamos la carpeta de salida e instalamos tensorflowjs"
   ]
  },
  {
   "cell_type": "markdown",
   "metadata": {},
   "source": [
    "![image.png](Grados/img/crear%20carpeta%20y%20instalar%20tensorflowjs.png)"
   ]
  },
  {
   "cell_type": "markdown",
   "metadata": {},
   "source": [
    "Con tensorflowjs generamos los archivos json y bin necesarios para mostrar los resultados en la web"
   ]
  },
  {
   "cell_type": "markdown",
   "metadata": {},
   "source": [
    "![image.png](Grados/img/generar%20json.png)"
   ]
  },
  {
   "cell_type": "markdown",
   "metadata": {},
   "source": [
    "Aqui podemos ver los archivos generados, ahora los descargamos en la carpeta donde tenemos guardado la pagina web"
   ]
  },
  {
   "cell_type": "markdown",
   "metadata": {},
   "source": [
    "![image.png](Grados/img/archivos%20generados.png)"
   ]
  },
  {
   "cell_type": "markdown",
   "metadata": {},
   "source": [
    "Abrimos el servidor en la carpeta donde tenemos guardado la pagina web"
   ]
  },
  {
   "cell_type": "markdown",
   "metadata": {},
   "source": [
    "![image.png](Grados/img/abrir%20servidor.png)"
   ]
  },
  {
   "cell_type": "markdown",
   "metadata": {},
   "source": [
    "Y por ultimo abrimos el siguiente [link](http://localhost:8000) en el navegador"
   ]
  },
  {
   "cell_type": "markdown",
   "metadata": {},
   "source": [
    "![image.png](Grados/img/Fahreanheit%20a%20Celsius%20WEB.png)"
   ]
  },
  {
   "cell_type": "markdown",
   "metadata": {},
   "source": [
    "## Clasificación de flores"
   ]
  },
  {
   "cell_type": "code",
   "execution_count": 9,
   "metadata": {},
   "outputs": [
    {
     "name": "stdout",
     "output_type": "stream",
     "text": [
      "WARNING:tensorflow:From c:\\Users\\NestorBD\\anaconda3\\Lib\\site-packages\\keras\\src\\losses.py:2976: The name tf.losses.sparse_softmax_cross_entropy is deprecated. Please use tf.compat.v1.losses.sparse_softmax_cross_entropy instead.\n",
      "\n"
     ]
    }
   ],
   "source": [
    "import tensorflow as tf\n",
    "from tensorflow.keras.preprocessing.image import ImageDataGenerator\n",
    "import os\n",
    "import numpy as np\n",
    "import matplotlib.pyplot as plt\n",
    "import splitfolders\n",
    "import cv2\n",
    "import seaborn as sns\n",
    "from sklearn.metrics import confusion_matrix, classification_report"
   ]
  },
  {
   "cell_type": "markdown",
   "metadata": {},
   "source": [
    "Definimos la carpeta en donde se encuentran las imagenes con las que vamos a entrenar el modelo"
   ]
  },
  {
   "cell_type": "code",
   "execution_count": 2,
   "metadata": {},
   "outputs": [
    {
     "name": "stdout",
     "output_type": "stream",
     "text": [
      "['daisy', 'dandelion', 'rose', 'sunflower', 'tulip']\n"
     ]
    }
   ],
   "source": [
    "original_path = \"Flores/flowers\"\n",
    "print(os.listdir(original_path))"
   ]
  },
  {
   "cell_type": "markdown",
   "metadata": {},
   "source": [
    "Creamos un MAP con las especies de flores que tenemos para entrenar y definimos el tamaño de las imagenes"
   ]
  },
  {
   "cell_type": "code",
   "execution_count": 4,
   "metadata": {},
   "outputs": [],
   "source": [
    "MAP_FLOWERS = {\n",
    "    0: 'daisy', 1: 'dandelion', 2: 'rose', \n",
    "    3: 'sunflower', 4: 'tulip'\n",
    "}\n",
    "\n",
    "# Vamos a standarizar todas las imágenes a tamaño 128x128\n",
    "IMG_SIZE = 128"
   ]
  },
  {
   "cell_type": "markdown",
   "metadata": {},
   "source": [
    "Dividimos los archivos en tres conjuntos entrenamiento, validación y pruebas"
   ]
  },
  {
   "cell_type": "code",
   "execution_count": 4,
   "metadata": {},
   "outputs": [
    {
     "name": "stderr",
     "output_type": "stream",
     "text": [
      "Copying files: 2131 files [00:33, 60.96 files/s]"
     ]
    }
   ],
   "source": [
    "splitfolders.ratio('Flores/flowers',seed=1337, output=\"Flores/Flowers-Splitted\", ratio=(0.6, 0.2, 0.2))"
   ]
  },
  {
   "cell_type": "markdown",
   "metadata": {},
   "source": [
    "Creamos las funciones para cargar las imagenes"
   ]
  },
  {
   "cell_type": "code",
   "execution_count": 6,
   "metadata": {},
   "outputs": [],
   "source": [
    "def load_train_set(dirname, map_pieces, verbose=True):\n",
    "    \"\"\"Esta función carga los datos de training en imágenes.\n",
    "\n",
    "    Como las imágenes tienen tamaños distintas, utilizamos la librería opencv\n",
    "    para hacer un resize y adaptarlas todas a tamaño IMG_SIZE x IMG_SIZE.\n",
    "\n",
    "    Args:\n",
    "        dirname: directorio completo del que leer los datos\n",
    "        map_pieces: variable de mapeo entre labels y piezas\n",
    "        verbose: si es True, muestra información de las imágenes cargadas\n",
    "\n",
    "    Returns:\n",
    "        X, y: X es un array con todas las imágenes cargadas con tamaño\n",
    "                IMG_SIZE x IMG_SIZE\n",
    "              y es un array con las labels de correspondientes a cada imagen\n",
    "    \"\"\"\n",
    "    X_train = []\n",
    "    y_train = []\n",
    "    for label, piece in map_pieces.items():\n",
    "        files = os.listdir(os.path.join(dirname, piece))\n",
    "        images = [file for file in files if (file.endswith(\"jpg\") or file.endswith(\"png\") or file.endswith(\"jpeg\") or file.endswith(\"JPG\"))]\n",
    "        if verbose:\n",
    "          print(\"Leyendo {} imágenes encontradas de {}\".format(len(images), piece))\n",
    "        for image_name in images:\n",
    "            image = cv2.imread(os.path.join(dirname, piece, image_name))\n",
    "            X_train.append(cv2.resize(image,(IMG_SIZE, IMG_SIZE)))\n",
    "            y_train.append(label)\n",
    "    return np.array(X_train), np.array(y_train)"
   ]
  },
  {
   "cell_type": "code",
   "execution_count": 7,
   "metadata": {},
   "outputs": [],
   "source": [
    "def load_test_or_val_set(dirname, map_pieces, verbose=True, isTest=True):\n",
    "    \"\"\"Esta función funciona de manera equivalente a la función load_train_set\n",
    "    pero cargando los datos de test.\"\"\"\n",
    "    X_test = []\n",
    "    y_test = []\n",
    "    for label, piece in map_pieces.items():\n",
    "        files = os.listdir(os.path.join(dirname, piece))\n",
    "        images = [file for file in files if (file.endswith(\"jpg\") or file.endswith(\"png\") or file.endswith(\"jpeg\") or file.endswith(\"JPG\"))]\n",
    "        for image_name in images:\n",
    "            image = cv2.imread(os.path.join(dirname, piece, image_name))\n",
    "            X_test.append(cv2.resize(image,(IMG_SIZE, IMG_SIZE)))\n",
    "            y_test.append(label)\n",
    "    if verbose:\n",
    "        if isTest:\n",
    "            print(\"Leídas {} imágenes de test\".format(len(X_test)))\n",
    "        else:\n",
    "            print(\"Leídas {} imágenes de val\".format(len(X_test)))\n",
    "    return np.array(X_test), np.array(y_test)"
   ]
  },
  {
   "cell_type": "markdown",
   "metadata": {},
   "source": [
    "Cargamos los datos."
   ]
  },
  {
   "cell_type": "code",
   "execution_count": 10,
   "metadata": {},
   "outputs": [
    {
     "name": "stdout",
     "output_type": "stream",
     "text": [
      "Leyendo 300 imágenes encontradas de daisy\n",
      "Leyendo 387 imágenes encontradas de dandelion\n",
      "Leyendo 298 imágenes encontradas de rose\n",
      "Leyendo 297 imágenes encontradas de sunflower\n",
      "Leyendo 364 imágenes encontradas de tulip\n",
      "Leídas 552 imágenes de val\n",
      "Leídas 552 imágenes de test\n"
     ]
    }
   ],
   "source": [
    "DATASET_TRAIN_PATH = \"Flores/Flowers-Splitted/train\"\n",
    "DATASET_VAL_PATH = \"Flores/Flowers-Splitted/val\"\n",
    "DATASET_TEST_PATH = \"Flores/Flowers-Splitted/test\"\n",
    "\n",
    "X, y = load_train_set(DATASET_TRAIN_PATH, MAP_FLOWERS)\n",
    "X_v, y_v = load_test_or_val_set(DATASET_TEST_PATH, MAP_FLOWERS, isTest=False)\n",
    "X_t, y_t = load_test_or_val_set(DATASET_TEST_PATH, MAP_FLOWERS)"
   ]
  },
  {
   "cell_type": "markdown",
   "metadata": {},
   "source": [
    "Aumentamos los datos de entrenamiento"
   ]
  },
  {
   "cell_type": "code",
   "execution_count": 11,
   "metadata": {},
   "outputs": [],
   "source": [
    "#Aumento de datos\n",
    "image_gen_entrenamiento = ImageDataGenerator(\n",
    "      rescale=1./255,\n",
    "      rotation_range=40,\n",
    "      width_shift_range=0.2,\n",
    "      height_shift_range=0.2,\n",
    "      shear_range=0.2,\n",
    "      zoom_range=0.2,\n",
    "      horizontal_flip=True,\n",
    "      fill_mode='nearest')"
   ]
  },
  {
   "cell_type": "code",
   "execution_count": 12,
   "metadata": {},
   "outputs": [
    {
     "name": "stdout",
     "output_type": "stream",
     "text": [
      "Found 1646 images belonging to 5 classes.\n"
     ]
    }
   ],
   "source": [
    "#Generacion de datos de entrenamiento FTW\n",
    "data_gen_entrenamiento = image_gen_entrenamiento.flow_from_directory(batch_size=100,\n",
    "                                                     directory=\"Flores/Flowers-Splitted/train\",\n",
    "                                                     shuffle=True,\n",
    "                                                     target_size=(IMG_SIZE,IMG_SIZE),\n",
    "                                                     class_mode='categorical')"
   ]
  },
  {
   "cell_type": "markdown",
   "metadata": {},
   "source": [
    "Rescalamos los datos de validación para que sean iguales a los de entrenamiento."
   ]
  },
  {
   "cell_type": "code",
   "execution_count": 13,
   "metadata": {},
   "outputs": [
    {
     "name": "stdout",
     "output_type": "stream",
     "text": [
      "Found 548 images belonging to 5 classes.\n"
     ]
    }
   ],
   "source": [
    "#Generacion de datos de validacion\n",
    "image_gen_val = ImageDataGenerator(rescale=1./255)\n",
    "\n",
    "data_gen_validacion = image_gen_val.flow_from_directory(batch_size=100,\n",
    "                                                 directory=\"Flores/Flowers-Splitted/val\",\n",
    "                                                 target_size=(IMG_SIZE, IMG_SIZE),\n",
    "                                                 class_mode='categorical')"
   ]
  },
  {
   "cell_type": "markdown",
   "metadata": {},
   "source": [
    "Craemos el modelo muy sencillo, tal cual esta en el video,solo cambiando los datos de salida, sino puede dar fallos."
   ]
  },
  {
   "cell_type": "code",
   "execution_count": 42,
   "metadata": {},
   "outputs": [],
   "source": [
    "modelo = tf.keras.models.Sequential([\n",
    "    tf.keras.layers.Conv2D(32, (3,3), activation='relu', input_shape=(IMG_SIZE, IMG_SIZE, 3)),\n",
    "    tf.keras.layers.MaxPooling2D(2, 2),\n",
    "\n",
    "    tf.keras.layers.Conv2D(64, (3,3), activation='relu'),\n",
    "    tf.keras.layers.MaxPooling2D(2,2),\n",
    "\n",
    "    tf.keras.layers.Conv2D(128, (3,3), activation='relu'),\n",
    "    tf.keras.layers.MaxPooling2D(2,2),\n",
    "\n",
    "    tf.keras.layers.Conv2D(128, (3,3), activation='relu'),\n",
    "    tf.keras.layers.MaxPooling2D(2,2),\n",
    "\n",
    "    tf.keras.layers.Dropout(0.5),\n",
    "    tf.keras.layers.Flatten(),\n",
    "    tf.keras.layers.Dense(512, activation='relu'),\n",
    "    tf.keras.layers.Dense(5, activation='softmax')\n",
    "])"
   ]
  },
  {
   "cell_type": "markdown",
   "metadata": {},
   "source": [
    "Compilación y entrenamiento"
   ]
  },
  {
   "cell_type": "code",
   "execution_count": 43,
   "metadata": {},
   "outputs": [
    {
     "name": "stdout",
     "output_type": "stream",
     "text": [
      "Entrenando modelo...\n",
      "Epoch 1/60\n"
     ]
    },
    {
     "name": "stderr",
     "output_type": "stream",
     "text": [
      "c:\\Users\\NestorBD\\anaconda3\\Lib\\site-packages\\keras\\src\\backend.py:5575: UserWarning: \"`categorical_crossentropy` received `from_logits=True`, but the `output` argument was produced by a Softmax activation and thus does not represent logits. Was this intended?\n",
      "  output, from_logits = _get_logits(\n"
     ]
    },
    {
     "name": "stdout",
     "output_type": "stream",
     "text": [
      "17/17 [==============================] - 37s 2s/step - loss: 1.5333 - accuracy: 0.2807 - val_loss: 1.2777 - val_accuracy: 0.4507\n",
      "Epoch 2/60\n",
      "17/17 [==============================] - 33s 2s/step - loss: 1.2364 - accuracy: 0.4459 - val_loss: 1.2061 - val_accuracy: 0.4653\n",
      "Epoch 3/60\n",
      "17/17 [==============================] - 33s 2s/step - loss: 1.1604 - accuracy: 0.5200 - val_loss: 1.1896 - val_accuracy: 0.5182\n",
      "Epoch 4/60\n",
      "17/17 [==============================] - 33s 2s/step - loss: 1.0834 - accuracy: 0.5462 - val_loss: 1.0571 - val_accuracy: 0.5803\n",
      "Epoch 5/60\n",
      "17/17 [==============================] - 34s 2s/step - loss: 1.1077 - accuracy: 0.5504 - val_loss: 1.0573 - val_accuracy: 0.5584\n",
      "Epoch 6/60\n",
      "17/17 [==============================] - 33s 2s/step - loss: 0.9912 - accuracy: 0.5869 - val_loss: 0.9339 - val_accuracy: 0.6533\n",
      "Epoch 7/60\n",
      "17/17 [==============================] - 33s 2s/step - loss: 0.9681 - accuracy: 0.6094 - val_loss: 1.1317 - val_accuracy: 0.5675\n",
      "Epoch 8/60\n",
      "17/17 [==============================] - 33s 2s/step - loss: 0.9176 - accuracy: 0.6276 - val_loss: 0.9202 - val_accuracy: 0.6588\n",
      "Epoch 9/60\n",
      "17/17 [==============================] - 32s 2s/step - loss: 0.8914 - accuracy: 0.6349 - val_loss: 0.9210 - val_accuracy: 0.6423\n",
      "Epoch 10/60\n",
      "17/17 [==============================] - 33s 2s/step - loss: 0.8364 - accuracy: 0.6549 - val_loss: 0.8593 - val_accuracy: 0.6661\n",
      "Epoch 11/60\n",
      "17/17 [==============================] - 33s 2s/step - loss: 0.8312 - accuracy: 0.6616 - val_loss: 0.9078 - val_accuracy: 0.6624\n",
      "Epoch 12/60\n",
      "17/17 [==============================] - 34s 2s/step - loss: 0.8288 - accuracy: 0.6513 - val_loss: 0.9234 - val_accuracy: 0.6551\n",
      "Epoch 13/60\n",
      "17/17 [==============================] - 35s 2s/step - loss: 0.8085 - accuracy: 0.6871 - val_loss: 0.9693 - val_accuracy: 0.6661\n",
      "Epoch 14/60\n",
      "17/17 [==============================] - 33s 2s/step - loss: 0.8123 - accuracy: 0.6962 - val_loss: 0.8279 - val_accuracy: 0.6697\n",
      "Epoch 15/60\n",
      "17/17 [==============================] - 33s 2s/step - loss: 0.7581 - accuracy: 0.7005 - val_loss: 0.7928 - val_accuracy: 0.6898\n",
      "Epoch 16/60\n",
      "17/17 [==============================] - 33s 2s/step - loss: 0.7860 - accuracy: 0.6786 - val_loss: 0.8125 - val_accuracy: 0.6989\n",
      "Epoch 17/60\n",
      "17/17 [==============================] - 33s 2s/step - loss: 0.7915 - accuracy: 0.6865 - val_loss: 0.8000 - val_accuracy: 0.7026\n",
      "Epoch 18/60\n",
      "17/17 [==============================] - 33s 2s/step - loss: 0.7376 - accuracy: 0.7029 - val_loss: 0.7889 - val_accuracy: 0.7062\n",
      "Epoch 19/60\n",
      "17/17 [==============================] - 33s 2s/step - loss: 0.7044 - accuracy: 0.7199 - val_loss: 0.8158 - val_accuracy: 0.7080\n",
      "Epoch 20/60\n",
      "17/17 [==============================] - 32s 2s/step - loss: 0.7184 - accuracy: 0.7199 - val_loss: 0.8716 - val_accuracy: 0.6807\n",
      "Epoch 21/60\n",
      "17/17 [==============================] - 33s 2s/step - loss: 0.6850 - accuracy: 0.7266 - val_loss: 0.8109 - val_accuracy: 0.6989\n",
      "Epoch 22/60\n",
      "17/17 [==============================] - 33s 2s/step - loss: 0.6793 - accuracy: 0.7382 - val_loss: 0.7621 - val_accuracy: 0.7080\n",
      "Epoch 23/60\n",
      "17/17 [==============================] - 32s 2s/step - loss: 0.6777 - accuracy: 0.7357 - val_loss: 0.7988 - val_accuracy: 0.7026\n",
      "Epoch 24/60\n",
      "17/17 [==============================] - 33s 2s/step - loss: 0.6531 - accuracy: 0.7375 - val_loss: 0.6932 - val_accuracy: 0.7336\n",
      "Epoch 25/60\n",
      "17/17 [==============================] - 33s 2s/step - loss: 0.6316 - accuracy: 0.7485 - val_loss: 0.6861 - val_accuracy: 0.7445\n",
      "Epoch 26/60\n",
      "17/17 [==============================] - 34s 2s/step - loss: 0.6102 - accuracy: 0.7546 - val_loss: 0.7781 - val_accuracy: 0.7026\n",
      "Epoch 27/60\n",
      "17/17 [==============================] - 33s 2s/step - loss: 0.6171 - accuracy: 0.7552 - val_loss: 0.7941 - val_accuracy: 0.7153\n",
      "Epoch 28/60\n",
      "17/17 [==============================] - 34s 2s/step - loss: 0.6665 - accuracy: 0.7406 - val_loss: 0.8024 - val_accuracy: 0.6770\n",
      "Epoch 29/60\n",
      "17/17 [==============================] - 33s 2s/step - loss: 0.6635 - accuracy: 0.7406 - val_loss: 0.7665 - val_accuracy: 0.7208\n",
      "Epoch 30/60\n",
      "17/17 [==============================] - 34s 2s/step - loss: 0.6462 - accuracy: 0.7400 - val_loss: 0.7385 - val_accuracy: 0.7135\n",
      "Epoch 31/60\n",
      "17/17 [==============================] - 34s 2s/step - loss: 0.6001 - accuracy: 0.7716 - val_loss: 0.7709 - val_accuracy: 0.7190\n",
      "Epoch 32/60\n",
      "17/17 [==============================] - 33s 2s/step - loss: 0.5795 - accuracy: 0.7643 - val_loss: 0.6901 - val_accuracy: 0.7536\n",
      "Epoch 33/60\n",
      "17/17 [==============================] - 33s 2s/step - loss: 0.5973 - accuracy: 0.7661 - val_loss: 0.7583 - val_accuracy: 0.7245\n",
      "Epoch 34/60\n",
      "17/17 [==============================] - 34s 2s/step - loss: 0.5973 - accuracy: 0.7789 - val_loss: 0.6141 - val_accuracy: 0.7774\n",
      "Epoch 35/60\n",
      "17/17 [==============================] - 34s 2s/step - loss: 0.5501 - accuracy: 0.7934 - val_loss: 0.7206 - val_accuracy: 0.7318\n",
      "Epoch 36/60\n",
      "17/17 [==============================] - 33s 2s/step - loss: 0.5561 - accuracy: 0.7734 - val_loss: 0.6218 - val_accuracy: 0.7792\n",
      "Epoch 37/60\n",
      "17/17 [==============================] - 34s 2s/step - loss: 0.5225 - accuracy: 0.7916 - val_loss: 0.7155 - val_accuracy: 0.7482\n",
      "Epoch 38/60\n",
      "17/17 [==============================] - 33s 2s/step - loss: 0.5294 - accuracy: 0.7959 - val_loss: 0.7705 - val_accuracy: 0.7299\n",
      "Epoch 39/60\n",
      "17/17 [==============================] - 34s 2s/step - loss: 0.5158 - accuracy: 0.7831 - val_loss: 0.7463 - val_accuracy: 0.7318\n",
      "Epoch 40/60\n",
      "17/17 [==============================] - 33s 2s/step - loss: 0.5267 - accuracy: 0.7989 - val_loss: 0.6577 - val_accuracy: 0.7810\n",
      "Epoch 41/60\n",
      "17/17 [==============================] - 34s 2s/step - loss: 0.5189 - accuracy: 0.7916 - val_loss: 0.6375 - val_accuracy: 0.7628\n",
      "Epoch 42/60\n",
      "17/17 [==============================] - 33s 2s/step - loss: 0.5641 - accuracy: 0.7861 - val_loss: 0.8941 - val_accuracy: 0.6807\n",
      "Epoch 43/60\n",
      "17/17 [==============================] - 33s 2s/step - loss: 0.5886 - accuracy: 0.7691 - val_loss: 0.8234 - val_accuracy: 0.7427\n",
      "Epoch 44/60\n",
      "17/17 [==============================] - 33s 2s/step - loss: 0.5357 - accuracy: 0.7934 - val_loss: 0.7193 - val_accuracy: 0.7518\n",
      "Epoch 45/60\n",
      "17/17 [==============================] - 33s 2s/step - loss: 0.5308 - accuracy: 0.7868 - val_loss: 0.6373 - val_accuracy: 0.7664\n",
      "Epoch 46/60\n",
      "17/17 [==============================] - 33s 2s/step - loss: 0.5322 - accuracy: 0.7886 - val_loss: 0.6312 - val_accuracy: 0.7555\n",
      "Epoch 47/60\n",
      "17/17 [==============================] - 36s 2s/step - loss: 0.5548 - accuracy: 0.7855 - val_loss: 0.6285 - val_accuracy: 0.7719\n",
      "Epoch 48/60\n",
      "17/17 [==============================] - 42s 2s/step - loss: 0.5021 - accuracy: 0.7959 - val_loss: 0.7110 - val_accuracy: 0.7445\n",
      "Epoch 49/60\n",
      "17/17 [==============================] - 41s 2s/step - loss: 0.4896 - accuracy: 0.8074 - val_loss: 0.6170 - val_accuracy: 0.7792\n",
      "Epoch 50/60\n",
      "17/17 [==============================] - 41s 2s/step - loss: 0.4622 - accuracy: 0.8183 - val_loss: 0.5897 - val_accuracy: 0.7901\n",
      "Epoch 51/60\n",
      "17/17 [==============================] - 43s 3s/step - loss: 0.4624 - accuracy: 0.8238 - val_loss: 0.6423 - val_accuracy: 0.7810\n",
      "Epoch 52/60\n",
      "17/17 [==============================] - 43s 3s/step - loss: 0.4708 - accuracy: 0.8068 - val_loss: 0.6412 - val_accuracy: 0.7609\n",
      "Epoch 53/60\n",
      "17/17 [==============================] - 37s 2s/step - loss: 0.4877 - accuracy: 0.8117 - val_loss: 0.7384 - val_accuracy: 0.7573\n",
      "Epoch 54/60\n",
      "17/17 [==============================] - 41s 2s/step - loss: 0.4987 - accuracy: 0.8026 - val_loss: 0.7236 - val_accuracy: 0.7883\n",
      "Epoch 55/60\n",
      "17/17 [==============================] - 41s 2s/step - loss: 0.4568 - accuracy: 0.8311 - val_loss: 0.6196 - val_accuracy: 0.7810\n",
      "Epoch 56/60\n",
      "17/17 [==============================] - 37s 2s/step - loss: 0.4396 - accuracy: 0.8262 - val_loss: 0.6075 - val_accuracy: 0.7938\n",
      "Epoch 57/60\n",
      "17/17 [==============================] - 36s 2s/step - loss: 0.4176 - accuracy: 0.8469 - val_loss: 0.6310 - val_accuracy: 0.7701\n",
      "Epoch 58/60\n",
      "17/17 [==============================] - 38s 2s/step - loss: 0.4362 - accuracy: 0.8275 - val_loss: 0.7968 - val_accuracy: 0.7810\n",
      "Epoch 59/60\n",
      "17/17 [==============================] - 35s 2s/step - loss: 0.4145 - accuracy: 0.8451 - val_loss: 0.6386 - val_accuracy: 0.7719\n",
      "Epoch 60/60\n",
      "17/17 [==============================] - 40s 2s/step - loss: 0.4002 - accuracy: 0.8481 - val_loss: 0.6365 - val_accuracy: 0.7847\n",
      "Modelo entrenado!\n"
     ]
    }
   ],
   "source": [
    "#Compilación\n",
    "modelo.compile(optimizer='adam',\n",
    "              loss=tf.keras.losses.CategoricalCrossentropy(from_logits=True),\n",
    "              metrics=['accuracy'])\n",
    "\n",
    "#Entrenar la red. Toma un buen rato! Ve por un café ;)\n",
    "#Oye suscribete al canal!\n",
    "print(\"Entrenando modelo...\");\n",
    "epocas=60\n",
    "history = modelo.fit(\n",
    "    data_gen_entrenamiento,\n",
    "    steps_per_epoch=int(np.ceil(len(X) / float(100))),\n",
    "    epochs=epocas,\n",
    "    validation_data=data_gen_validacion,\n",
    "    validation_steps=int(np.ceil(len(X_v) / float(100)))\n",
    ")\n",
    "\n",
    "print(\"Modelo entrenado!\");"
   ]
  },
  {
   "cell_type": "code",
   "execution_count": 44,
   "metadata": {},
   "outputs": [],
   "source": [
    "def plot_acc(history, title=\"Model Accuracy\"):\n",
    "  \"\"\"Imprime una gráfica mostrando la accuracy por epoch obtenida en un entrenamiento\"\"\"\n",
    "  plt.plot(history.history['accuracy'])\n",
    "  plt.plot(history.history['val_accuracy'])\n",
    "  plt.title(title)\n",
    "  plt.ylabel('Accuracy')\n",
    "  plt.xlabel('Epoch')\n",
    "  plt.legend(['Train', 'Val'], loc='upper left')\n",
    "  plt.show()\n",
    "def plot_loss(history, title=\"Model Loss\"):\n",
    "  \"\"\"Imprime una gráfica mostrando la pérdida por epoch obtenida en un entrenamiento\"\"\"\n",
    "  plt.plot(history.history['loss'])\n",
    "  plt.plot(history.history['val_loss'])\n",
    "  plt.title(title)\n",
    "  plt.ylabel('Loss')\n",
    "  plt.xlabel('Epoch')\n",
    "  plt.legend(['Train', 'Val'], loc='upper right')\n",
    "  plt.show()"
   ]
  },
  {
   "cell_type": "markdown",
   "metadata": {},
   "source": [
    "En la siguiente grafica podemos observar la variacion de aciertos de los datos de entrenamiento con respecto a los de validación, van mas o menos a la par."
   ]
  },
  {
   "cell_type": "code",
   "execution_count": 45,
   "metadata": {},
   "outputs": [
    {
     "data": {
      "image/png": "[encoded data removed]",
      "text/plain": [
       "<Figure size 640x480 with 1 Axes>"
      ]
     },
     "metadata": {},
     "output_type": "display_data"
    }
   ],
   "source": [
    "plot_acc(history)"
   ]
  },
  {
   "cell_type": "markdown",
   "metadata": {},
   "source": [
    "En este otro grafico vemos la misma comparación pero con los datos de perdida, vemos que a partir de la empoca 50 se empiezan a separar mucho, se recomendaria parar ahi o incluso en la 40 donde ya se aprecia una separación considerable."
   ]
  },
  {
   "cell_type": "code",
   "execution_count": 46,
   "metadata": {},
   "outputs": [
    {
     "data": {
      "image/png": "[encoded data removed]",
      "text/plain": [
       "<Figure size 640x480 with 1 Axes>"
      ]
     },
     "metadata": {},
     "output_type": "display_data"
    }
   ],
   "source": [
    "plot_loss(history)"
   ]
  },
  {
   "cell_type": "markdown",
   "metadata": {},
   "source": [
    "Normalizamos los datos de test para comprobar nuestro modelo entrenado."
   ]
  },
  {
   "cell_type": "code",
   "execution_count": 47,
   "metadata": {},
   "outputs": [
    {
     "name": "stdout",
     "output_type": "stream",
     "text": [
      "Found 552 images belonging to 5 classes.\n"
     ]
    }
   ],
   "source": [
    "#Generacion de datos de test\n",
    "image_gen_test = ImageDataGenerator(rescale=1./255)\n",
    "\n",
    "data_gen_test = image_gen_test.flow_from_directory(batch_size=100,\n",
    "                                                 directory=\"Flores/Flowers-Splitted/test\",\n",
    "                                                 target_size=(IMG_SIZE, IMG_SIZE),\n",
    "                                                 class_mode='categorical')\n",
    "# Obtener un lote de datos\n",
    "X_test, y_test = data_gen_test.next()"
   ]
  },
  {
   "cell_type": "markdown",
   "metadata": {},
   "source": [
    "Evaluamos el modelo y comprobamos que sale correctamente, el resultado es bastante aceptable, lo que se esperaba."
   ]
  },
  {
   "cell_type": "code",
   "execution_count": 48,
   "metadata": {},
   "outputs": [
    {
     "name": "stdout",
     "output_type": "stream",
     "text": [
      "4/4 [==============================] - 0s 35ms/step - loss: 0.7134 - accuracy: 0.7600\n"
     ]
    },
    {
     "data": {
      "text/plain": [
       "[0.713397741317749, 0.7599999904632568]"
      ]
     },
     "execution_count": 48,
     "metadata": {},
     "output_type": "execute_result"
    }
   ],
   "source": [
    "modelo.evaluate(X_test, y_test, batch_size=32, verbose=1)"
   ]
  },
  {
   "cell_type": "markdown",
   "metadata": {},
   "source": [
    "Generamos la matriz de confusión"
   ]
  },
  {
   "cell_type": "code",
   "execution_count": 49,
   "metadata": {},
   "outputs": [],
   "source": [
    "LABELS = ['daisy','dandelion', 'rose', \n",
    "'sunflower', 'tulip']\n",
    "def mostrar_resultados(model, X_test, y_test, pred_y):\n",
    "    pred_y = np.argmax(pred_y, axis=1)\n",
    "    y_test = np.argmax(y_test, axis=1)\n",
    "    conf_matrix = confusion_matrix(y_test, pred_y)\n",
    "    plt.figure(figsize=(6, 6))\n",
    "    sns.heatmap(conf_matrix, xticklabels=LABELS, yticklabels=LABELS, annot=True, fmt=\"d\");\n",
    "    plt.title(\"Confusion matrix\")\n",
    "    plt.ylabel('True class')\n",
    "    plt.xlabel('Predicted class')\n",
    "    plt.show()\n",
    "\n",
    "    print (classification_report(y_test, pred_y))"
   ]
  },
  {
   "cell_type": "code",
   "execution_count": 50,
   "metadata": {},
   "outputs": [
    {
     "name": "stdout",
     "output_type": "stream",
     "text": [
      "4/4 [==============================] - 0s 33ms/step\n"
     ]
    },
    {
     "data": {
      "image/png": "[encoded data removed]",
      "text/plain": [
       "<Figure size 600x600 with 2 Axes>"
      ]
     },
     "metadata": {},
     "output_type": "display_data"
    },
    {
     "name": "stdout",
     "output_type": "stream",
     "text": [
      "              precision    recall  f1-score   support\n",
      "\n",
      "           0       0.93      0.78      0.85        18\n",
      "           1       0.89      0.64      0.74        25\n",
      "           2       0.50      0.50      0.50        14\n",
      "           3       0.78      0.95      0.86        22\n",
      "           4       0.69      0.86      0.77        21\n",
      "\n",
      "    accuracy                           0.76       100\n",
      "   macro avg       0.76      0.75      0.74       100\n",
      "weighted avg       0.78      0.76      0.76       100\n",
      "\n"
     ]
    }
   ],
   "source": [
    "y_pred = modelo.predict(X_test)\n",
    "mostrar_resultados(history, X_test, y_test, y_pred)"
   ]
  },
  {
   "cell_type": "markdown",
   "metadata": {},
   "source": [
    "En la matriz podemos comprobar que acierta bastante en todas las categorias a ecepción de la rosa, lo cual es aceptable para esta tarea de clase"
   ]
  },
  {
   "cell_type": "markdown",
   "metadata": {},
   "source": [
    "Exportamos el modelo"
   ]
  },
  {
   "cell_type": "code",
   "execution_count": 53,
   "metadata": {},
   "outputs": [],
   "source": [
    "#Exportar el modelo en formato h5\n",
    "modelo.save('Flores/flowers.h5')"
   ]
  },
  {
   "cell_type": "markdown",
   "metadata": {},
   "source": [
    "Ahora, seguimos los mismos pasos que con el modelo anterior, subimos el modelo a el codigo de google colab para generar los archivos necesarios."
   ]
  },
  {
   "cell_type": "markdown",
   "metadata": {},
   "source": [
    "![image.png](Flores/img/Generar%20Json.png)"
   ]
  },
  {
   "cell_type": "markdown",
   "metadata": {},
   "source": [
    "Descargamos los archivos de la carpeta output y los añadimos a la carpeta en donde se encuentra el html donde mostraremos el funcionamiento del modelo con la camara del movil conectado al ordenador."
   ]
  },
  {
   "cell_type": "markdown",
   "metadata": {},
   "source": [
    "Abrimos el servidor en la carpeta donde tenemos guardado la pagina web"
   ]
  },
  {
   "cell_type": "markdown",
   "metadata": {},
   "source": [
    "![image.png](Flores/img/Abrir%20servidor.png)"
   ]
  },
  {
   "cell_type": "markdown",
   "metadata": {},
   "source": [
    "Y por ultimo abrimos el [link](http://localhost:8001) en donde hemos alojado la web"
   ]
  },
  {
   "cell_type": "markdown",
   "metadata": {},
   "source": [
    "![image.png](Flores/img/Visualización%20en%20la%20web.png)"
   ]
  },
  {
   "cell_type": "markdown",
   "metadata": {},
   "source": [
    "![image.png](Flores/img/sunflower.png)"
   ]
  }
 ],
 "metadata": {
  "kernelspec": {
   "display_name": "base",
   "language": "python",
   "name": "python3"
  },
  "language_info": {
   "codemirror_mode": {
    "name": "ipython",
    "version": 3
   },
   "file_extension": ".py",
   "mimetype": "text/x-python",
   "name": "python",
   "nbconvert_exporter": "python",
   "pygments_lexer": "ipython3",
   "version": "3.11.5"
  }
 },
 "nbformat": 4,
 "nbformat_minor": 2
}
